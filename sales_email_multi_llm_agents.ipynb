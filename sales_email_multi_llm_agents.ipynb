{
 "cells": [
  {
   "cell_type": "code",
   "id": "initial_id",
   "metadata": {
    "collapsed": true,
    "ExecuteTime": {
     "end_time": "2025-08-07T18:34:36.942800Z",
     "start_time": "2025-08-07T18:34:36.933132Z"
    }
   },
   "source": [
    "from dotenv import load_dotenv\n",
    "from openai import AsyncOpenAI\n",
    "from agents import Agent, Runner, trace, function_tool, OpenAIChatCompletionsModel, input_guardrail, GuardrailFunctionOutput\n",
    "from typing import Dict\n",
    "import sendgrid\n",
    "import os\n",
    "from sendgrid.helpers.mail import Mail, Email, To, Content\n",
    "from pydantic import BaseModel\n",
    "\n",
    "load_dotenv(override=True)"
   ],
   "outputs": [
    {
     "data": {
      "text/plain": [
       "True"
      ]
     },
     "execution_count": 2,
     "metadata": {},
     "output_type": "execute_result"
    }
   ],
   "execution_count": 2
  },
  {
   "metadata": {},
   "cell_type": "code",
   "outputs": [],
   "execution_count": null,
   "source": [
    "# Configuration & credentials\n",
    "openai_model = \"gpt-4o-mini\"\n",
    "sender_email = os.environ[\"SENDER_EMAIL\"]\n",
    "receiver_email = os.environ[\"RECEIVER_EMAIL\"]\n",
    "openai_api_key = os.getenv('OPENAI_API_KEY')\n",
    "google_api_key = os.getenv('GOOGLE_API_KEY')\n",
    "deepseek_api_key = os.getenv('DEEPSEEK_API_KEY')\n",
    "groq_api_key = os.getenv('GROQ_API_KEY')"
   ],
   "id": "ab8b01619d64d100"
  },
  {
   "metadata": {},
   "cell_type": "code",
   "outputs": [],
   "execution_count": null,
   "source": [
    "GEMINI_BASE_URL = \"https://generativelanguage.googleapis.com/v1beta/openai/\"\n",
    "DEEPSEEK_BASE_URL = \"https://api.deepseek.com/v1\"\n",
    "GROQ_BASE_URL = \"https://api.groq.com/openai/v1\"\n",
    "\n",
    "deepseek_client = AsyncOpenAI(base_url=DEEPSEEK_BASE_URL,\n",
    "                              api_key=deepseek_api_key)\n",
    "gemini_client = AsyncOpenAI(base_url=GEMINI_BASE_URL,\n",
    "                            api_key=google_api_key)\n",
    "groq_client = AsyncOpenAI(base_url=GROQ_BASE_URL,\n",
    "                          api_key=groq_api_key)\n",
    "\n",
    "deepseek_model = OpenAIChatCompletionsModel(model=\"deepseek-chat\",\n",
    "                                            openai_client=deepseek_client)\n",
    "gemini_model = OpenAIChatCompletionsModel(model=\"gemini-2.0-flash\",\n",
    "                                          openai_client=gemini_client)\n",
    "llama_model = OpenAIChatCompletionsModel(model=\"llama-3.3-70b-versatile\",\n",
    "                                         openai_client=groq_client)"
   ],
   "id": "7ce9a5ed21e8d289"
  },
  {
   "metadata": {},
   "cell_type": "code",
   "outputs": [],
   "execution_count": null,
   "source": [
    "prof_instructions = \"You are a sales agent working for idare.ai, \\\n",
    "a company that provides zero-code predictive analytics solution powered by AI. \\\n",
    "You write professional, serious cold emails.\"\n",
    "\n",
    "witty_instructions = \"You are a humorous, engaging sales agent working for idare.ai, \\\n",
    "a company that provides zero-code predictive analytics solution, powered by AI. \\\n",
    "You write witty, engaging cold emails that are likely to get a response.\"\n",
    "\n",
    "busy_instructions = \"You are a busy sales agent working for idare.ai, \\\n",
    "a company that provides provides zero-code predictive analytics solution, powered by AI. \\\n",
    "You write concise, to the point cold emails.\"\n",
    "\n",
    "subject_instructions = \"You can write a subject for a cold sales email. \\\n",
    "You are given a message and you need to write a subject for an email that is likely to get a response.\"\n",
    "\n",
    "html_instructions = \"You can convert a text email body to an HTML email body. \\\n",
    "You are given a text email body which might have some markdown \\\n",
    "and you need to convert it to an HTML email body with simple, clear, compelling layout and design.\"\n",
    "\n",
    "sales_manager_instructions = \"\"\"\n",
    "You are a Sales Manager at idare.ai. Your goal is to find the single best cold sales email using the sales tools.\n",
    "\n",
    "Follow these steps carefully:\n",
    "1. Generate Drafts: Use all three sales tools (prof_sales, witty_sales, busy_sales) to generate three different email drafts. Do not proceed until all three drafts are ready.\n",
    "\n",
    "2. Evaluate and Select: Review the drafts and choose the single best email using your judgment of which one is most effective.\n",
    "\n",
    "3. Handoff for Sending: Pass ONLY the winning email draft to the 'Email Manager' agent. The Email Manager will take care of formatting and sending.\n",
    "\n",
    "Crucial Rules:\n",
    "- You must use the sales agent tools to generate the drafts — do not write them yourself.\n",
    "- You must hand off exactly ONE email to the Email Manager — never more than one.\n",
    "\"\"\"\n",
    "\n",
    "email_manager_instructions =\"You are an email formatter and sender. You receive the body of an email to be sent. \\\n",
    "You first use the subject_writer tool to write a subject for the email, then use the html_converter tool to convert the body to HTML. \\\n",
    "Finally, you use the send_html_email tool to send the email with the subject and HTML body.\"\n",
    "\n",
    "prompt = \"Send out a cold sales email addressed to Dear CTO Dr. Khairul Chowdhury from Kawsar, Data Scientist at idare.ai\""
   ],
   "id": "438f4005a45f05ad"
  },
  {
   "metadata": {},
   "cell_type": "code",
   "outputs": [],
   "execution_count": null,
   "source": [
    "prof_sales_agent = Agent(name=\"Professional Sales Agent\",\n",
    "                         instructions=prof_instructions,\n",
    "                         model=deepseek_model)\n",
    "\n",
    "witty_sales_agent = Agent(name=\"Engaging Sales Agent\",\n",
    "                          instructions=witty_instructions,\n",
    "                          model=gemini_model)\n",
    "\n",
    "busy_sales_agent = Agent(name=\"Busy Sales Agent\",\n",
    "                         instructions=busy_instructions,\n",
    "                         model=llama_model)\n",
    "\n",
    "subject_writer = Agent(name=\"Email subject writer\",\n",
    "                       instructions=subject_instructions,\n",
    "                       model=openai_model)\n",
    "\n",
    "html_converter = Agent(name=\"HTML email body converter\",\n",
    "                       instructions=html_instructions,\n",
    "                       model=openai_model)"
   ],
   "id": "219a3d6705ef96c0"
  },
  {
   "metadata": {},
   "cell_type": "code",
   "outputs": [],
   "execution_count": null,
   "source": [
    "sales_agent_description = \"Write a cold sales email\"\n",
    "prof_sales = prof_sales_agent.as_tool(tool_name=\"prof_sales_agent\",\n",
    "                                      tool_description=sales_agent_description)\n",
    "witty_sales = witty_sales_agent.as_tool(tool_name=\"witty_sales_agent\",\n",
    "                                        tool_description=sales_agent_description)\n",
    "busy_sales = busy_sales_agent.as_tool(tool_name=\"busy_sales_agent\",\n",
    "                                      tool_description=sales_agent_description)\n",
    "\n",
    "subject_tool = subject_writer.as_tool(tool_name=\"subject_writer\",\n",
    "                                      tool_description=\"Write a subject for a cold sales email\")\n",
    "\n",
    "html_tool = html_converter.as_tool(tool_name=\"html_converter\",\n",
    "                                   tool_description=\"Convert a text email body to an HTML email body\")"
   ],
   "id": "bcc0e3f1b0d5817c"
  },
  {
   "metadata": {},
   "cell_type": "code",
   "outputs": [],
   "execution_count": null,
   "source": [
    "@function_tool\n",
    "def send_html_email(subject: str, html_body: str) -> Dict[str, str]:\n",
    "    \"\"\" Send out an email with the given subject and HTML body to all sales prospects \"\"\"\n",
    "    try:\n",
    "        sg = sendgrid.SendGridAPIClient(api_key=os.environ.get('SENDGRID_API_KEY'))\n",
    "        from_email = Email(sender_email)  # Change to your verified sender\n",
    "        to_email = To(receiver_email)  # Change to your recipient\n",
    "        content = Content(\"text/html\", html_body)\n",
    "        mail = Mail(from_email, to_email, subject, content).get()\n",
    "        sg.client.mail.send.post(request_body=mail)\n",
    "        return {\"status\": \"success\"}\n",
    "    except Exception as e:\n",
    "        return {\"status\": \"error\", \"message\": str(e)}"
   ],
   "id": "315eb6d581fdc7e3"
  },
  {
   "metadata": {},
   "cell_type": "code",
   "outputs": [],
   "execution_count": null,
   "source": [
    "class NameCheckOutput(BaseModel):\n",
    "    is_name_in_message: bool\n",
    "    name: str\n",
    "\n",
    "guardrail_agent = Agent(name=\"Name check\",\n",
    "                        instructions=\"Check if the user is including someone's personal name in what they want you to do.\",\n",
    "                        output_type=NameCheckOutput,\n",
    "                        model=openai_model)"
   ],
   "id": "5b7f55c0fe46be47"
  },
  {
   "metadata": {},
   "cell_type": "code",
   "outputs": [],
   "execution_count": null,
   "source": [
    "@input_guardrail\n",
    "async def guardrail_against_name(ctx, agent, message):\n",
    "    result = await Runner.run(guardrail_agent, message, context=ctx.context)\n",
    "    is_name_in_message = result.final_output.is_name_in_message\n",
    "    return GuardrailFunctionOutput(output_info={\"found_name\": result.final_output},\n",
    "                                   tripwire_triggered=is_name_in_message)"
   ],
   "id": "61b6e7620330d3dc"
  },
  {
   "metadata": {},
   "cell_type": "code",
   "outputs": [],
   "execution_count": null,
   "source": [
    "emailer_agent = Agent(name=\"Email Manager\",\n",
    "                      instructions=email_manager_instructions,\n",
    "                      tools=[subject_tool, html_tool, send_html_email],\n",
    "                      model=openai_model,\n",
    "                      handoff_description=\"Convert an email to HTML and send it\")\n",
    "\n",
    "sales_manager = Agent(name=\"Sales Manager\",\n",
    "                      instructions=sales_manager_instructions,\n",
    "                      tools=[prof_sales, witty_sales, busy_sales],\n",
    "                      handoffs=[emailer_agent],\n",
    "                      model=openai_model,\n",
    "                      input_guardrails=[guardrail_against_name])"
   ],
   "id": "93a36365fe8accd4"
  },
  {
   "metadata": {},
   "cell_type": "code",
   "outputs": [],
   "execution_count": null,
   "source": [
    "with trace(\"Automated SDR\"):\n",
    "    result = await Runner.run(sales_manager, prompt)\n",
    "    print(result)"
   ],
   "id": "fcf6ac9352078150"
  }
 ],
 "metadata": {
  "kernelspec": {
   "display_name": "Python 3",
   "language": "python",
   "name": "python3"
  },
  "language_info": {
   "codemirror_mode": {
    "name": "ipython",
    "version": 2
   },
   "file_extension": ".py",
   "mimetype": "text/x-python",
   "name": "python",
   "nbconvert_exporter": "python",
   "pygments_lexer": "ipython2",
   "version": "2.7.6"
  }
 },
 "nbformat": 4,
 "nbformat_minor": 5
}
