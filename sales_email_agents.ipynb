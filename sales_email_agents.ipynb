{
 "cells": [
  {
   "cell_type": "code",
   "id": "initial_id",
   "metadata": {
    "collapsed": true,
    "ExecuteTime": {
     "end_time": "2025-08-06T20:52:50.378932Z",
     "start_time": "2025-08-06T20:52:50.373659Z"
    }
   },
   "source": [
    "# pip install sendgrid\n",
    "# pip install openai-agents\n",
    "\n",
    "from dotenv import load_dotenv\n",
    "from agents import Agent, Runner, trace, function_tool\n",
    "from typing import Dict\n",
    "import sendgrid\n",
    "import os\n",
    "from sendgrid.helpers.mail import Mail, Email, To, Content\n",
    "\n",
    "load_dotenv(override=True)"
   ],
   "outputs": [
    {
     "data": {
      "text/plain": [
       "True"
      ]
     },
     "execution_count": 57,
     "metadata": {},
     "output_type": "execute_result"
    }
   ],
   "execution_count": 57
  },
  {
   "metadata": {
    "ExecuteTime": {
     "end_time": "2025-08-06T20:52:50.395834Z",
     "start_time": "2025-08-06T20:52:50.394133Z"
    }
   },
   "cell_type": "code",
   "source": "llm_model = \"gpt-4o-mini\"",
   "id": "3ef8355f35c9676b",
   "outputs": [],
   "execution_count": 58
  },
  {
   "metadata": {
    "ExecuteTime": {
     "end_time": "2025-08-06T20:52:50.409603Z",
     "start_time": "2025-08-06T20:52:50.407043Z"
    }
   },
   "cell_type": "code",
   "source": [
    "prof_instructions = \"You are a sales agent working for idare.ai, \\\n",
    "a company that provides zero-code predictive analytics solution powered by AI. \\\n",
    "You write professional, serious cold emails.\"\n",
    "\n",
    "witty_instructions = \"You are a humorous, engaging sales agent working for idare.ai, \\\n",
    "a company that provides zero-code predictive analytics solution, powered by AI. \\\n",
    "You write witty, engaging cold emails that are likely to get a response.\"\n",
    "\n",
    "busy_instructions = \"You are a busy sales agent working for idare.ai, \\\n",
    "a company that provides provides zero-code predictive analytics solution, powered by AI. \\\n",
    "You write concise, to the point cold emails.\"\n",
    "\n",
    "subject_instructions = \"You can write a subject for a cold sales email. \\\n",
    "You are given a message and you need to write a subject for an email that is likely to get a response.\"\n",
    "\n",
    "html_instructions = \"You can convert a text email body to an HTML email body. \\\n",
    "You are given a text email body which might have some markdown \\\n",
    "and you need to convert it to an HTML email body with simple, clear, compelling layout and design.\"\n",
    "\n",
    "sales_manager_instructions = \"\"\"\n",
    "You are a Sales Manager at idare.ai. Your goal is to find the single best cold sales email using the sales tools.\n",
    "\n",
    "Follow these steps carefully:\n",
    "1. Generate Drafts: Use all three sales tools (prof_sales, witty_sales, busy_sales) to generate three different email drafts. Do not proceed until all three drafts are ready.\n",
    "\n",
    "2. Evaluate and Select: Review the drafts and choose the single best email using your judgment of which one is most effective.\n",
    "\n",
    "3. Handoff for Sending: Pass ONLY the winning email draft to the 'Email Manager' agent. The Email Manager will take care of formatting and sending.\n",
    "\n",
    "Crucial Rules:\n",
    "- You must use the sales agent tools to generate the drafts — do not write them yourself.\n",
    "- You must hand off exactly ONE email to the Email Manager — never more than one.\n",
    "\"\"\"\n",
    "\n",
    "email_manager_instructions =\"You are an email formatter and sender. You receive the body of an email to be sent. \\\n",
    "You first use the subject_writer tool to write a subject for the email, then use the html_converter tool to convert the body to HTML. \\\n",
    "Finally, you use the send_html_email tool to send the email with the subject and HTML body.\"\n",
    "\n",
    "prompt = \"Send out a cold sales email addressed to Dear CTO Dr. Taufiq Chowdhury from Kawsar, Data Scientist at idare.ai\""
   ],
   "id": "9fb7bcb1bb6fedb2",
   "outputs": [],
   "execution_count": 59
  },
  {
   "metadata": {
    "ExecuteTime": {
     "end_time": "2025-08-06T20:52:50.415232Z",
     "start_time": "2025-08-06T20:52:50.413221Z"
    }
   },
   "cell_type": "code",
   "source": [
    "prof_sales_agent = Agent(name=\"Professional Sales Agent\",\n",
    "                         instructions=prof_instructions,\n",
    "                         model=llm_model)\n",
    "\n",
    "witty_sales_agent = Agent(name=\"Engaging Sales Agent\",\n",
    "                          instructions=witty_instructions,\n",
    "                          model=llm_model)\n",
    "\n",
    "busy_sales_agent = Agent(name=\"Busy Sales Agent\",\n",
    "                         instructions=busy_instructions,\n",
    "                         model=llm_model)\n",
    "\n",
    "subject_writer = Agent(name=\"Email subject writer\",\n",
    "                       instructions=subject_instructions,\n",
    "                       model=llm_model)\n",
    "\n",
    "html_converter = Agent(name=\"HTML email body converter\",\n",
    "                       instructions=html_instructions,\n",
    "                       model=llm_model)"
   ],
   "id": "1fd80ac19f90591b",
   "outputs": [],
   "execution_count": 60
  },
  {
   "metadata": {
    "ExecuteTime": {
     "end_time": "2025-08-06T20:52:50.422667Z",
     "start_time": "2025-08-06T20:52:50.418468Z"
    }
   },
   "cell_type": "code",
   "source": [
    "sales_agent_description = \"Write a cold sales email\"\n",
    "prof_sales = prof_sales_agent.as_tool(tool_name=\"prof_sales_agent\",\n",
    "                                      tool_description=sales_agent_description)\n",
    "witty_sales = witty_sales_agent.as_tool(tool_name=\"witty_sales_agent\",\n",
    "                                        tool_description=sales_agent_description)\n",
    "busy_sales = busy_sales_agent.as_tool(tool_name=\"busy_sales_agent\",\n",
    "                                      tool_description=sales_agent_description)\n",
    "\n",
    "subject_tool = subject_writer.as_tool(tool_name=\"subject_writer\",\n",
    "                                      tool_description=\"Write a subject for a cold sales email\")\n",
    "\n",
    "html_tool = html_converter.as_tool(tool_name=\"html_converter\",\n",
    "                                   tool_description=\"Convert a text email body to an HTML email body\")"
   ],
   "id": "6340bcd732b31c93",
   "outputs": [],
   "execution_count": 61
  },
  {
   "metadata": {
    "ExecuteTime": {
     "end_time": "2025-08-06T20:52:50.427989Z",
     "start_time": "2025-08-06T20:52:50.425555Z"
    }
   },
   "cell_type": "code",
   "source": [
    "@function_tool\n",
    "def send_html_email(subject: str, html_body: str) -> Dict[str, str]:\n",
    "    \"\"\" Send out an email with the given subject and HTML body to all sales prospects \"\"\"\n",
    "    try:\n",
    "        sg = sendgrid.SendGridAPIClient(api_key=os.environ.get('SENDGRID_API_KEY'))\n",
    "        from_email = Email(sender_email)  # Change to your verified sender\n",
    "        to_email = To(receiver_email)  # Change to your recipient\n",
    "        content = Content(\"text/html\", html_body)\n",
    "        mail = Mail(from_email, to_email, subject, content).get()\n",
    "        sg.client.mail.send.post(request_body=mail)\n",
    "        return {\"status\": \"success\"}\n",
    "    except Exception as e:\n",
    "        return {\"status\": \"error\", \"message\": str(e)}"
   ],
   "id": "bbc86be486318438",
   "outputs": [],
   "execution_count": 62
  },
  {
   "metadata": {
    "ExecuteTime": {
     "end_time": "2025-08-06T20:52:50.432157Z",
     "start_time": "2025-08-06T20:52:50.430523Z"
    }
   },
   "cell_type": "code",
   "source": [
    "emailer_agent = Agent(name=\"Email Manager\",\n",
    "                      instructions=email_manager_instructions,\n",
    "                      tools=[subject_tool, html_tool, send_html_email],\n",
    "                      model=llm_model,\n",
    "                      handoff_description=\"Convert an email to HTML and send it\")\n",
    "\n",
    "sales_manager = Agent(name=\"Sales Manager\",\n",
    "                      instructions=sales_manager_instructions,\n",
    "                      tools=[prof_sales, witty_sales, busy_sales],\n",
    "                      handoffs=[emailer_agent],\n",
    "                      model=llm_model)"
   ],
   "id": "a69b3586584931d3",
   "outputs": [],
   "execution_count": 63
  },
  {
   "metadata": {
    "ExecuteTime": {
     "end_time": "2025-08-06T20:53:55.562509Z",
     "start_time": "2025-08-06T20:52:50.435423Z"
    }
   },
   "cell_type": "code",
   "source": [
    "with trace(\"Automated SDR\"):\n",
    "    result = await Runner.run(sales_manager, prompt)\n",
    "    print(result)"
   ],
   "id": "7a3c645f8722ce5f",
   "outputs": [
    {
     "name": "stdout",
     "output_type": "stream",
     "text": [
      "RunResult:\n",
      "- Last agent: Agent(name=\"Email Manager\", ...)\n",
      "- Final output (str):\n",
      "    The cold sales email has been successfully sent to Dr. Taufiq Chowdhury with the subject \"Unlock Your Potential with Predictive Analytics!\" and the HTML body properly formatted. If you need any further assistance, feel free to ask!\n",
      "- 16 new item(s)\n",
      "- 5 raw response(s)\n",
      "- 0 input guardrail result(s)\n",
      "- 0 output guardrail result(s)\n",
      "(See `RunResult` for more details)\n"
     ]
    }
   ],
   "execution_count": 64
  },
  {
   "metadata": {},
   "cell_type": "markdown",
   "source": [
    "#### Now go and look at the trace\n",
    "\n",
    "https://platform.openai.com/traces"
   ],
   "id": "3694d6ec82082b55"
  }
 ],
 "metadata": {
  "kernelspec": {
   "display_name": "Python 3",
   "language": "python",
   "name": "python3"
  },
  "language_info": {
   "codemirror_mode": {
    "name": "ipython",
    "version": 2
   },
   "file_extension": ".py",
   "mimetype": "text/x-python",
   "name": "python",
   "nbconvert_exporter": "python",
   "pygments_lexer": "ipython2",
   "version": "2.7.6"
  }
 },
 "nbformat": 4,
 "nbformat_minor": 5
}
