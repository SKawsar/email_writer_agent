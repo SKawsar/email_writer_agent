{
 "cells": [
  {
   "metadata": {},
   "cell_type": "markdown",
   "source": [
    "# How to Automate Cold-Email Outreach with LLM Agents\n",
    "\n",
    "Why Automate Cold Emails?\n",
    "<br>Sending effective, personalized cold emails is time-consuming:\n",
    "- You want variants of professional, witty, or concise emails to A/B test.\n",
    "- You must pick the best draft, not just any draft.\n",
    "- You need compelling subject lines.\n",
    "- You have to convert text to HTML so it renders nicely.\n",
    "- Finally, you still need to deliver via an Email Service Provider like SendGrid.\n",
    "\n",
    "A modern agent framework lets each of these steps become an agent or tool. We simply orchestrate them.\n",
    "\n",
    "Install these packages:\n",
    "<br>`pip install sendgrid openai-agents`\n",
    "\n",
    "- sendgrid – handles SMTP-class deliverability with minimal fuss.\n",
    "- openai-agents – lets us compose “agents” (LLM instances + instructions + tools) into directed workflows.\n",
    "\n",
    "We then load API keys (OPENAI_API_KEY, SENDGRID_API_KEY) and email addresses (SENDER_EMAIL, RECEIVER_EMAIL) from a .env file, keeping secrets out of source control."
   ],
   "id": "84a47cfd979d3716"
  },
  {
   "metadata": {
    "collapsed": true,
    "ExecuteTime": {
     "end_time": "2025-08-06T21:04:19.431501Z",
     "start_time": "2025-08-06T21:04:19.428593Z"
    }
   },
   "cell_type": "code",
   "outputs": [
    {
     "data": {
      "text/plain": [
       "True"
      ]
     },
     "execution_count": 17,
     "metadata": {},
     "output_type": "execute_result"
    }
   ],
   "execution_count": 17,
   "source": [
    "from dotenv import load_dotenv\n",
    "from agents import Agent, Runner, trace, function_tool\n",
    "from typing import Dict\n",
    "import sendgrid\n",
    "import os\n",
    "from sendgrid.helpers.mail import Mail, Email, To, Content\n",
    "\n",
    "load_dotenv(override=True)"
   ],
   "id": "f6e314371f01dd26"
  },
  {
   "metadata": {
    "ExecuteTime": {
     "end_time": "2025-08-06T21:04:19.442653Z",
     "start_time": "2025-08-06T21:04:19.440653Z"
    }
   },
   "cell_type": "code",
   "source": [
    "# Configuration & credentials\n",
    "llm_model = \"gpt-4o-mini\"\n",
    "sender_email = os.environ[\"SENDER_EMAIL\"]\n",
    "receiver_email = os.environ[\"RECEIVER_EMAIL\"]"
   ],
   "id": "3ef8355f35c9676b",
   "outputs": [],
   "execution_count": 18
  },
  {
   "metadata": {},
   "cell_type": "markdown",
   "source": [
    "### Prompt instructions for agents\n",
    "\n",
    "Three distinct prompt templates:\n",
    "- Professional Tone, Use-case: Formal, serious\tEnterprise / C-suite\n",
    "- Witty, Use-case: Humorous, disarming\tStartups / creative directors\n",
    "- Busy Tone, Use-case: Ultra-concise\tHard-pressed execs\n",
    "\n",
    "Creating diversity up-front gives the Sales Manager real choices."
   ],
   "id": "cc42f6ce9acf7e14"
  },
  {
   "metadata": {
    "ExecuteTime": {
     "end_time": "2025-08-06T21:04:19.451036Z",
     "start_time": "2025-08-06T21:04:19.448730Z"
    }
   },
   "cell_type": "code",
   "source": [
    "prof_instructions = \"You are a sales agent working for idare.ai, \\\n",
    "a company that provides zero-code predictive analytics solution powered by AI. \\\n",
    "You write professional, serious cold emails.\"\n",
    "\n",
    "witty_instructions = \"You are a humorous, engaging sales agent working for idare.ai, \\\n",
    "a company that provides zero-code predictive analytics solution, powered by AI. \\\n",
    "You write witty, engaging cold emails that are likely to get a response.\"\n",
    "\n",
    "busy_instructions = \"You are a busy sales agent working for idare.ai, \\\n",
    "a company that provides provides zero-code predictive analytics solution, powered by AI. \\\n",
    "You write concise, to the point cold emails.\"\n",
    "\n",
    "subject_instructions = \"You can write a subject for a cold sales email. \\\n",
    "You are given a message and you need to write a subject for an email that is likely to get a response.\"\n",
    "\n",
    "html_instructions = \"You can convert a text email body to an HTML email body. \\\n",
    "You are given a text email body which might have some markdown \\\n",
    "and you need to convert it to an HTML email body with simple, clear, compelling layout and design.\"\n",
    "\n",
    "sales_manager_instructions = \"\"\"\n",
    "You are a Sales Manager at idare.ai. Your goal is to find the single best cold sales email using the sales tools.\n",
    "\n",
    "Follow these steps carefully:\n",
    "1. Generate Drafts: Use all three sales tools (prof_sales, witty_sales, busy_sales) to generate three different email drafts. Do not proceed until all three drafts are ready.\n",
    "\n",
    "2. Evaluate and Select: Review the drafts and choose the single best email using your judgment of which one is most effective.\n",
    "\n",
    "3. Handoff for Sending: Pass ONLY the winning email draft to the 'Email Manager' agent. The Email Manager will take care of formatting and sending.\n",
    "\n",
    "Crucial Rules:\n",
    "- You must use the sales agent tools to generate the drafts — do not write them yourself.\n",
    "- You must hand off exactly ONE email to the Email Manager — never more than one.\n",
    "\"\"\"\n",
    "\n",
    "email_manager_instructions =\"You are an email formatter and sender. You receive the body of an email to be sent. \\\n",
    "You first use the subject_writer tool to write a subject for the email, then use the html_converter tool to convert the body to HTML. \\\n",
    "Finally, you use the send_html_email tool to send the email with the subject and HTML body.\"\n",
    "\n",
    "prompt = \"Send out a cold sales email addressed to Dear CTO Dr. Khairul Chowdhury from Kawsar, Data Scientist at idare.ai\""
   ],
   "id": "9fb7bcb1bb6fedb2",
   "outputs": [],
   "execution_count": 19
  },
  {
   "metadata": {},
   "cell_type": "markdown",
   "source": [
    "### Turning Prompts into Agents\n",
    "An Agent is basically LLM + system prompt with optional tools.\n",
    "\n",
    "Each agent here has no extra tools – it just writes an email when called.\n",
    "\n",
    "Subject lines and HTML formatting are specialized skills. Small, focused prompts make the LLM sharper at these micro-tasks.\n",
    "\n",
    "subject_writer: turns the email body into an irresistible subject.\n",
    "\n",
    "html_converter: converts Markdown-ish text into responsive HTML.\n",
    "\n",
    "Both are exposed as tools so downstream agents can call them."
   ],
   "id": "a9ee0f8c887ec83c"
  },
  {
   "metadata": {
    "ExecuteTime": {
     "end_time": "2025-08-06T21:04:19.455723Z",
     "start_time": "2025-08-06T21:04:19.453626Z"
    }
   },
   "cell_type": "code",
   "source": [
    "prof_sales_agent = Agent(name=\"Professional Sales Agent\",\n",
    "                         instructions=prof_instructions,\n",
    "                         model=llm_model)\n",
    "\n",
    "witty_sales_agent = Agent(name=\"Engaging Sales Agent\",\n",
    "                          instructions=witty_instructions,\n",
    "                          model=llm_model)\n",
    "\n",
    "busy_sales_agent = Agent(name=\"Busy Sales Agent\",\n",
    "                         instructions=busy_instructions,\n",
    "                         model=llm_model)\n",
    "\n",
    "subject_writer = Agent(name=\"Email subject writer\",\n",
    "                       instructions=subject_instructions,\n",
    "                       model=llm_model)\n",
    "\n",
    "html_converter = Agent(name=\"HTML email body converter\",\n",
    "                       instructions=html_instructions,\n",
    "                       model=llm_model)"
   ],
   "id": "1fd80ac19f90591b",
   "outputs": [],
   "execution_count": 20
  },
  {
   "metadata": {},
   "cell_type": "markdown",
   "source": "### Convert Agents into Tools",
   "id": "4d79edbc7966231b"
  },
  {
   "metadata": {
    "ExecuteTime": {
     "end_time": "2025-08-06T21:04:19.463156Z",
     "start_time": "2025-08-06T21:04:19.458301Z"
    }
   },
   "cell_type": "code",
   "source": [
    "sales_agent_description = \"Write a cold sales email\"\n",
    "prof_sales = prof_sales_agent.as_tool(tool_name=\"prof_sales_agent\",\n",
    "                                      tool_description=sales_agent_description)\n",
    "witty_sales = witty_sales_agent.as_tool(tool_name=\"witty_sales_agent\",\n",
    "                                        tool_description=sales_agent_description)\n",
    "busy_sales = busy_sales_agent.as_tool(tool_name=\"busy_sales_agent\",\n",
    "                                      tool_description=sales_agent_description)\n",
    "\n",
    "subject_tool = subject_writer.as_tool(tool_name=\"subject_writer\",\n",
    "                                      tool_description=\"Write a subject for a cold sales email\")\n",
    "\n",
    "html_tool = html_converter.as_tool(tool_name=\"html_converter\",\n",
    "                                   tool_description=\"Convert a text email body to an HTML email body\")"
   ],
   "id": "6340bcd732b31c93",
   "outputs": [],
   "execution_count": 21
  },
  {
   "metadata": {},
   "cell_type": "markdown",
   "source": [
    "Everything so far has been pure text. We still need to actually send.\n",
    "\n",
    "A small Python function wrapped by @function_tool lets agents trigger real I/O.\n",
    "\n",
    "If SendGrid replies with an error, the agent chain can propagate it."
   ],
   "id": "34d60c4c5f26f860"
  },
  {
   "metadata": {
    "ExecuteTime": {
     "end_time": "2025-08-06T21:04:19.467611Z",
     "start_time": "2025-08-06T21:04:19.465167Z"
    }
   },
   "cell_type": "code",
   "source": [
    "@function_tool\n",
    "def send_html_email(subject: str, html_body: str) -> Dict[str, str]:\n",
    "    \"\"\" Send out an email with the given subject and HTML body to all sales prospects \"\"\"\n",
    "    try:\n",
    "        sg = sendgrid.SendGridAPIClient(api_key=os.environ.get('SENDGRID_API_KEY'))\n",
    "        from_email = Email(sender_email)  # Change to your verified sender\n",
    "        to_email = To(receiver_email)  # Change to your recipient\n",
    "        content = Content(\"text/html\", html_body)\n",
    "        mail = Mail(from_email, to_email, subject, content).get()\n",
    "        sg.client.mail.send.post(request_body=mail)\n",
    "        return {\"status\": \"success\"}\n",
    "    except Exception as e:\n",
    "        return {\"status\": \"error\", \"message\": str(e)}"
   ],
   "id": "bbc86be486318438",
   "outputs": [],
   "execution_count": 22
  },
  {
   "metadata": {},
   "cell_type": "markdown",
   "source": [
    "The Email Manager Agent\n",
    "<br>Role: format and deliver the winning draft.\n",
    "\n",
    "Its toolbox:\n",
    "- `subject_writer`\n",
    "- `html_converter`\n",
    "- `send_html_email`\n",
    "\n",
    "Its instruction set forces the exact ordering:\n",
    "- Generate subject\n",
    "- Convert to HTML\n",
    "- Send via SendGrid\n",
    "\n",
    "Because each tool is explicit, you get reliable, auditable steps.\n",
    "\n",
    "The Sales Manager Agent\n",
    "<br>This is the orchestrator:\n",
    "- Calls all three drafting tools in parallel.\n",
    "- Evaluates and picks one draft.\n",
    "- Hands that draft off to the Email Manager.\n",
    "\n",
    "The “handoff” mechanic in openai-agents is powerful: the Sales Manager doesn’t need to know how to send email – it merely passes control."
   ],
   "id": "2bee986389dfb6f2"
  },
  {
   "metadata": {
    "ExecuteTime": {
     "end_time": "2025-08-06T21:04:19.471165Z",
     "start_time": "2025-08-06T21:04:19.469511Z"
    }
   },
   "cell_type": "code",
   "source": [
    "emailer_agent = Agent(name=\"Email Manager\",\n",
    "                      instructions=email_manager_instructions,\n",
    "                      tools=[subject_tool, html_tool, send_html_email],\n",
    "                      model=llm_model,\n",
    "                      handoff_description=\"Convert an email to HTML and send it\")\n",
    "\n",
    "sales_manager = Agent(name=\"Sales Manager\",\n",
    "                      instructions=sales_manager_instructions,\n",
    "                      tools=[prof_sales, witty_sales, busy_sales],\n",
    "                      handoffs=[emailer_agent],\n",
    "                      model=llm_model)"
   ],
   "id": "a69b3586584931d3",
   "outputs": [],
   "execution_count": 23
  },
  {
   "metadata": {},
   "cell_type": "markdown",
   "source": [
    "trace() logs each tool call and LLM message, invaluable for debugging and analytics (e.g., see which persona wins most often).\n",
    "\n",
    "Runner.run() kicks off the graph:\n",
    "\n",
    "User prompt → Sales Manager\n",
    "   <br>&emsp;├─▶ prof_sales_agent\n",
    "   <br>&emsp;├─▶ witty_sales_agent\n",
    "   <br>&emsp;└─▶ busy_sales_agent\n",
    "<br>Sales Manager picks a winner\n",
    "   <br>&emsp;└─▶ Email Manager\n",
    "         <br>&emsp;&emsp;&emsp;&emsp;&emsp;├─▶ subject_writer\n",
    "         <br>&emsp;&emsp;&emsp;&emsp;&emsp;├─▶ html_converter\n",
    "         <br>&emsp;&emsp;&emsp;&emsp;&emsp;└─▶ send_html_email\n",
    "\n",
    "Finally the program prints the result (success or error)\n"
   ],
   "id": "6c163559e8d32e06"
  },
  {
   "metadata": {
    "ExecuteTime": {
     "end_time": "2025-08-06T21:05:06.292019Z",
     "start_time": "2025-08-06T21:04:19.474251Z"
    }
   },
   "cell_type": "code",
   "source": [
    "with trace(\"Automated SDR\"):\n",
    "    result = await Runner.run(sales_manager, prompt)\n",
    "    print(result)"
   ],
   "id": "7a3c645f8722ce5f",
   "outputs": [
    {
     "name": "stdout",
     "output_type": "stream",
     "text": [
      "RunResult:\n",
      "- Last agent: Agent(name=\"Email Manager\", ...)\n",
      "- Final output (str):\n",
      "    The cold sales email has been successfully sent to Dr. Khairul Chowdhury. If you need anything else, feel free to ask!\n",
      "- 16 new item(s)\n",
      "- 5 raw response(s)\n",
      "- 0 input guardrail result(s)\n",
      "- 0 output guardrail result(s)\n",
      "(See `RunResult` for more details)\n"
     ]
    }
   ],
   "execution_count": 24
  },
  {
   "metadata": {},
   "cell_type": "markdown",
   "source": [
    "#### Now go and look at the trace\n",
    "\n",
    "https://platform.openai.com/traces"
   ],
   "id": "3694d6ec82082b55"
  },
  {
   "metadata": {},
   "cell_type": "markdown",
   "source": [
    "By decomposing each micro-step of outbound outreach into a specialized agent or tool, we gain:\n",
    "\n",
    "Modularity – swap out, retrain, or fine-tune individual parts.\n",
    "\n",
    "Observability – inspect traces to debug failure points.\n",
    "\n",
    "Scalability – run thousands of emails in parallel with minimal extra code.\n",
    "\n",
    "In short, LLM agents plus a reliable ESP turn the cold emailing into a fully-automated, measurable pipeline—freeing you to focus on higher-level strategy."
   ],
   "id": "795b9a720f851cd1"
  },
  {
   "metadata": {},
   "cell_type": "code",
   "outputs": [],
   "execution_count": null,
   "source": "",
   "id": "2c6b474141daa350"
  }
 ],
 "metadata": {
  "kernelspec": {
   "display_name": "Python 3",
   "language": "python",
   "name": "python3"
  },
  "language_info": {
   "codemirror_mode": {
    "name": "ipython",
    "version": 2
   },
   "file_extension": ".py",
   "mimetype": "text/x-python",
   "name": "python",
   "nbconvert_exporter": "python",
   "pygments_lexer": "ipython2",
   "version": "2.7.6"
  }
 },
 "nbformat": 4,
 "nbformat_minor": 5
}
